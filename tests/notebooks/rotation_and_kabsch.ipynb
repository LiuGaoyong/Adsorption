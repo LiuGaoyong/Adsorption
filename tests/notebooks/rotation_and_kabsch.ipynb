{
 "cells": [
  {
   "cell_type": "code",
   "execution_count": 1,
   "id": "54a64428",
   "metadata": {},
   "outputs": [],
   "source": [
    "import numpy as np\n",
    "\n",
    "a, b = np.random.rand(2, 3)\n",
    "a = a / np.linalg.norm(a) + np.random.rand()\n",
    "b = b / np.linalg.norm(b) + np.random.rand()\n",
    "\n",
    "A = np.asarray([a], dtype=float)\n",
    "B = np.asarray([b], dtype=float)"
   ]
  },
  {
   "cell_type": "code",
   "execution_count": 2,
   "id": "e63f0564",
   "metadata": {},
   "outputs": [
    {
     "name": "stdout",
     "output_type": "stream",
     "text": [
      "[[ 0.97834134 -0.11357885  0.17305509]\n",
      " [ 0.06520766  0.96256161  0.26310286]\n",
      " [-0.1964591  -0.24611989  0.94912003]]\n"
     ]
    }
   ],
   "source": [
    "from scipy.spatial.transform import Rotation\n",
    "\n",
    "r = Rotation.align_vectors(A, B)[0]\n",
    "print(r.as_matrix())"
   ]
  },
  {
   "cell_type": "code",
   "execution_count": 3,
   "id": "7e51f420",
   "metadata": {},
   "outputs": [
    {
     "name": "stdout",
     "output_type": "stream",
     "text": [
      "[[0.72442534 0.55764021 0.91079515]] [1.37226962 1.05633067 1.72530755]\n"
     ]
    }
   ],
   "source": [
    "print(r.apply(B), a)"
   ]
  },
  {
   "cell_type": "code",
   "execution_count": 4,
   "id": "98297db6",
   "metadata": {},
   "outputs": [],
   "source": [
    "from ase.data import covalent_radii as COV_R\n",
    "from ase.build import molecule\n",
    "from ase.io import read\n",
    "from ase import Atoms\n",
    "\n",
    "core = [303, 334, 464]  # vertex fcc hollow\n",
    "atoms = Atoms(read(\"../tests/OctCu10.xyz\"))\n",
    "adsorbate = molecule(\"CO\")\n",
    "adsorbate_index = 0\n",
    "\n",
    "\n",
    "cov_radii_core = np.mean(COV_R[atoms.numbers[core]])\n",
    "\n",
    "com_atoms = atoms.get_center_of_mass()\n",
    "com_core = Atoms(atoms[core]).get_center_of_mass()\n",
    "direction: np.ndarray = com_core - com_atoms\n",
    "direction /= np.linalg.norm(direction)\n",
    "\n",
    "com_ads = adsorbate.get_center_of_mass()\n",
    "if len(adsorbate) == 0:\n",
    "    raise ValueError(\"The adsorbate must have at least one atom.\")\n",
    "elif len(adsorbate) == 1:\n",
    "    adsorbate_index = 0\n",
    "else:\n",
    "    if adsorbate_index is None:\n",
    "        v2com_ads = adsorbate.positions - com_ads\n",
    "        d2com_ads = np.linalg.norm(v2com_ads, axis=1)\n",
    "        adsorbate_index = int(np.argmin(d2com_ads))\n",
    "assert isinstance(adsorbate_index, int), (\n",
    "    \"The adsorbate_index must be None or integer.\"\n",
    ")\n",
    "ref_pos = adsorbate.positions[adsorbate_index]\n",
    "B = np.asarray([ref_pos, com_ads])\n",
    "\n",
    "\n",
    "_d2ref = COV_R[adsorbate.numbers[adsorbate_index]] + cov_radii_core\n",
    "_d2com = float(np.linalg.norm(ref_pos - com_ads)) + _d2ref\n",
    "target_ref_pos = com_core + _d2ref * direction\n",
    "target_com_ads = com_core + _d2com * direction\n",
    "A = np.asarray([target_ref_pos, target_com_ads])"
   ]
  },
  {
   "cell_type": "code",
   "execution_count": 5,
   "id": "357035f6",
   "metadata": {},
   "outputs": [
    {
     "name": "stdout",
     "output_type": "stream",
     "text": [
      "[0.49327861] [0.49327861]\n",
      "[[ 0.68074025  0.68074025 17.01850625]\n",
      " [ 0.7004399   0.7004399  17.5109975 ]] \n",
      " [[ 0.00000000e+00  0.00000000e+00  4.93003000e-01]\n",
      " [ 0.00000000e+00  0.00000000e+00 -2.75605498e-04]]\n"
     ]
    }
   ],
   "source": [
    "from scipy.spatial.distance import pdist\n",
    "\n",
    "print(pdist(A), pdist(B))\n",
    "print(A, \"\\n\", B)"
   ]
  },
  {
   "cell_type": "code",
   "execution_count": 6,
   "id": "7238944d",
   "metadata": {},
   "outputs": [],
   "source": [
    "import sys\n",
    "\n",
    "sys.path.append(\"..\")\n",
    "\n",
    "from adsorption.rotation import kabsch\n",
    "\n",
    "r, t, rmsd = kabsch(A, B)"
   ]
  },
  {
   "cell_type": "code",
   "execution_count": 7,
   "id": "b88e2457",
   "metadata": {},
   "outputs": [
    {
     "data": {
      "text/plain": [
       "array([[ 0.68074025,  0.68074025, 17.01850625],\n",
       "       [ 0.7004399 ,  0.7004399 , 17.5109975 ]])"
      ]
     },
     "execution_count": 7,
     "metadata": {},
     "output_type": "execute_result"
    }
   ],
   "source": [
    "from adsorption.rotation import rotate\n",
    "\n",
    "rotate(B, r) + t"
   ]
  }
 ],
 "metadata": {
  "kernelspec": {
   "display_name": "base",
   "language": "python",
   "name": "python3"
  },
  "language_info": {
   "codemirror_mode": {
    "name": "ipython",
    "version": 3
   },
   "file_extension": ".py",
   "mimetype": "text/x-python",
   "name": "python",
   "nbconvert_exporter": "python",
   "pygments_lexer": "ipython3",
   "version": "3.12.9"
  }
 },
 "nbformat": 4,
 "nbformat_minor": 5
}
